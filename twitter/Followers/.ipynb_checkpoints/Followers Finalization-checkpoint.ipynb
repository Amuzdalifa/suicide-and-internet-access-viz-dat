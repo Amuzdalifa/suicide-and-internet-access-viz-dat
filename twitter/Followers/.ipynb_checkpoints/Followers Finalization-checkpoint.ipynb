{
 "cells": [
  {
   "cell_type": "code",
   "execution_count": 3,
   "metadata": {
    "collapsed": true
   },
   "outputs": [],
   "source": [
    "# Proxy\n",
    "import sys,os,os.path\n",
    "os.environ['HTTP_PROXY']=\"\"\n",
    "os.environ['HTTPS_PROXY']=\"\"\n",
    "# os.environ['NO_PROXY']=\"suzaneringoringo:45484745@cache.itb.ac.id:8080\"\n",
    "# os.environ['ALL_PROXY']=\"suzaneringoringo:45484745@cache.itb.ac.id:8080\"\n",
    "os.environ['FTP_PROXY']=\"\"\n",
    "os.environ['SOCKS_PROXY']=\"\"\n",
    "os.environ['http_proxy']=\"\"\n",
    "os.environ['https_proxy']=\"\"\n",
    "# os.environ['no_proxy']=\"suzaneringoringo:45484745@cache.itb.ac.id:8080\"\n",
    "# os.environ['all_proxy']=\"suzaneringoringo:45484745@cache.itb.ac.id:8080\"\n",
    "os.environ['ftp_proxy']=\"\"\n",
    "os.environ['socks_proxy']=\"\""
   ]
  },
  {
   "cell_type": "code",
   "execution_count": 18,
   "metadata": {},
   "outputs": [
    {
     "name": "stderr",
     "output_type": "stream",
     "text": [
      "IOPub data rate exceeded.\n",
      "The notebook server will temporarily stop sending output\n",
      "to the client in order to avoid crashing it.\n",
      "To change this limit, set the config variable\n",
      "`--NotebookApp.iopub_data_rate_limit`.\n"
     ]
    }
   ],
   "source": [
    "# Scraping\n",
    "from bs4 import BeautifulSoup\n",
    "import codecs\n",
    "\n",
    "f=codecs.open(\"follower_page.html\", 'r')\n",
    "html = f.read()\n",
    "print(html)\n",
    "\n",
    "# page_link = \"http://bibletools.info/Gen_1.1\"\n",
    "# page_response = requests.get(page_link, timeout=5)\n",
    "\n",
    "soup = BeautifulSoup(html, \"html.parser\")\n",
    "followers = soup.find(\"div\", attrs={\"class\": [\"ProfileCard js-actionable-user\"]})"
   ]
  }
 ],
 "metadata": {
  "kernelspec": {
   "display_name": "Python 3",
   "language": "python",
   "name": "python3"
  },
  "language_info": {
   "codemirror_mode": {
    "name": "ipython",
    "version": 3
   },
   "file_extension": ".py",
   "mimetype": "text/x-python",
   "name": "python",
   "nbconvert_exporter": "python",
   "pygments_lexer": "ipython3",
   "version": "3.6.3"
  }
 },
 "nbformat": 4,
 "nbformat_minor": 2
}
