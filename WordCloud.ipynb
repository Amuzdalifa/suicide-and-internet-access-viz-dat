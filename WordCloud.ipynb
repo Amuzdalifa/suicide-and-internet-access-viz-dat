{
 "cells": [
  {
   "cell_type": "code",
   "execution_count": 7,
   "metadata": {},
   "outputs": [
    {
     "ename": "ImportError",
     "evalue": "No module named PIL",
     "output_type": "error",
     "traceback": [
      "\u001b[0;31m---------------------------------------------------------------------------\u001b[0m",
      "\u001b[0;31mImportError\u001b[0m                               Traceback (most recent call last)",
      "\u001b[0;32m<ipython-input-7-26ffb444c2b5>\u001b[0m in \u001b[0;36m<module>\u001b[0;34m()\u001b[0m\n\u001b[1;32m      1\u001b[0m \u001b[0;32mimport\u001b[0m \u001b[0mnumpy\u001b[0m \u001b[0;32mas\u001b[0m \u001b[0mnp\u001b[0m\u001b[0;34m\u001b[0m\u001b[0m\n\u001b[0;32m----> 2\u001b[0;31m \u001b[0;32mfrom\u001b[0m \u001b[0mPIL\u001b[0m \u001b[0;32mimport\u001b[0m \u001b[0mImage\u001b[0m\u001b[0;34m\u001b[0m\u001b[0m\n\u001b[0m\u001b[1;32m      3\u001b[0m \u001b[0;32mimport\u001b[0m \u001b[0mmatplotlib\u001b[0m\u001b[0;34m.\u001b[0m\u001b[0mpyplot\u001b[0m \u001b[0;32mas\u001b[0m \u001b[0mplt\u001b[0m\u001b[0;34m\u001b[0m\u001b[0m\n\u001b[1;32m      4\u001b[0m \u001b[0;32mimport\u001b[0m \u001b[0mrandom\u001b[0m\u001b[0;34m\u001b[0m\u001b[0m\n\u001b[1;32m      5\u001b[0m \u001b[0;32mfrom\u001b[0m \u001b[0mwordcloud\u001b[0m \u001b[0;32mimport\u001b[0m \u001b[0mWordCloud\u001b[0m\u001b[0;34m,\u001b[0m \u001b[0mSTOPWORDS\u001b[0m\u001b[0;34m\u001b[0m\u001b[0m\n",
      "\u001b[0;31mImportError\u001b[0m: No module named PIL"
     ]
    }
   ],
   "source": [
    "import numpy as np\n",
    "from PIL import Image\n",
    "import matplotlib.pyplot as plt\n",
    "import random\n",
    "from wordcloud import WordCloud, STOPWORDS\n",
    "%matplotlib inline"
   ]
  },
  {
   "cell_type": "code",
   "execution_count": 2,
   "metadata": {
    "collapsed": true
   },
   "outputs": [],
   "source": [
    "import pandas as pd\n",
    "my_data = pd.read_csv('suicide-data.csv')"
   ]
  },
  {
   "cell_type": "code",
   "execution_count": 13,
   "metadata": {},
   "outputs": [
    {
     "data": {
      "text/plain": [
       "['lemah ya kamu',\n",
       " 'mati mati mati jangan bodoh lu walaupun gue gak begitu kenal jengkel juga liat status lu',\n",
       " 'alay kontol',\n",
       " 'mati saja hidup itu keras setelah kau mati kesusahan di dunia tidak akan ada lagi',\n",
       " 'mending nadi langsung bosku biar viral hehe',\n",
       " 'paling besok juga sembuh',\n",
       " 'shame on you',\n",
       " 'lebay',\n",
       " 'tato 2018',\n",
       " 'satu kata buat lu. tolol',\n",
       " 'lebay cok dikira situ doang yang punya masalah',\n",
       " 'kayak sudah pernah ke neraka aja mba emang situ bisa ngatasin perihnya neraka? think again',\n",
       " 'Wih bang indra hebat dalam sekejap bisa jadi selebritis tapi sayang jadi seleb yang oon yang rela buang sia-sia hidupnya demi cinta orang yang sakit dan dah divonis mati aja masih terus berjuang untuk bisa hidup bang eh ini malah dibuang sia2... hemmm... bagi pihak keluarga maaf ya dan banyak diberi ketabahan lahir + batin',\n",
       " 'Cuma karna cinta rela mati disangka nyawa ada 9 kali',\n",
       " 'Saya cuma bisa mendoakan saja semoga pahinggar indrawan tenang di alam sana dan peristirahatan terahir.... tetapi buat yang sudah menyimak sayangilah nyawa kalian karna kita hidup cuma sekali....',\n",
       " 'Kalau dilihat-lihat sih kayaknya mau main-main saja tetapi apalah daya setan sudah campur tangan ya modar lah pada akhirnya..',\n",
       " 'Sadis videonya',\n",
       " 'ahahahaha mati kok bunuh diri pakai cara lain kenapa',\n",
       " 'mati konyol itu orang melakukan hal yang dilaknat oleh allah',\n",
       " 'mas bunuh diri itu tidak baik karna mati adalah kehendak tuhan yang maha esa jika bunuh diri di alam barzha akan disiksa ya allah semoga sampeyan diterima amal baiknya',\n",
       " 'astagfirrullahhaladzim',\n",
       " 'makanya koreksi diri',\n",
       " 'kebodohan kok dipelihara. emang cuma dia wanita',\n",
       " 'tidak ada dosa yg diampuni buat orang yang bunuh diri macam dia',\n",
       " 'mati anjing',\n",
       " 'pekokk',\n",
       " 'kenapa gak harus tobat kenapa harus bunuh diri ?',\n",
       " 'kasian.... masih muda... tetapi kok bego... hedew',\n",
       " 'ea betul bego banget padahal cewe banyak kan',\n",
       " 'ini adalah contoh orang yang tidak mengerti ilmu agama sebesar apapun masalah yang dialami harusnya kita lebih mendekatkan diri kepada allah dengan cara memperbanyak ibadah kalau kita dekat dengan allah pasti allah juga akan dekat dengan kita kalau allah sudah dekat dengan kita maka allah akan memuliakan kita dan kita akan dibahagiakan di dunia dan akhirat tidak akan mungkin allah membiarkan kita tersiksa bukannya malah gantung diri perbuatan percuma yang malah membuat kita tersiksa di neraka untuk selamanya',\n",
       " 'Dia sebenarnya gak tahu kalau sakitnya banget  sebelum nyawanya hilang dia pasti nyesel dan pengen dsielamatkan lihat aja pas tangannya megang tali dia pengen melepaskan diri tahu sudah takdir dia Doakan yg terbaik saja',\n",
       " 'Kalo ia mabuk Cinta jika diapakan frustasi itu ia dimasuki setan jd siapapun bisa melakukan itu makanya sayang sama orang itu biasa-biasa saja',\n",
       " 'goblok memberi contoh yg gak benar ini tetapi mau bagaimana lagi kalau kayak gitu tu mati bukan karena allah tapi karena ulah',\n",
       " 'Puntung neraka. orang bodoh. masih banyak cewe. dunia luas. Di akhirat gak diterima. Masuk lah neraka situ.',\n",
       " 'Apa kabar lu di neraka ? Sehat kan ? Gimana enak menggantung terus disana ?',\n",
       " 'Mau ngeledekin tp takut dijudge. Mau dikasihani tapi .. Dia imannya gak kuat.',\n",
       " 'Orang ga depresi karena dia tidak dekat dengan sang pencipta coba dia menjalankan perintah sang pencipta maka dia akan melakukan hal baik dalam hidupnya',\n",
       " 'gapapa sekali sekali ada yg bunuh diri di mall elite biar seru..',\n",
       " 'Mungkin PRANK',\n",
       " 'Kalo beneran sengaja loncat gak ada otak sih sudah stres ngerepotin orang mall ngerepotin keluarga juga',\n",
       " 'masa kecil kurang bahagia',\n",
       " 'Gabut paling itu',\n",
       " 'Kok ga mati',\n",
       " 'miskin pengetahuan agamanya lol',\n",
       " 'Kurang iman dan ngaji....makanya perbanyak baca Alquran bukan Baca IG dan FB \\xf0\\x9f\\x98\\x82',\n",
       " 'Payah',\n",
       " 'Bedebah tuh orang',\n",
       " 'Yah tuh dia udah ga punya iman git deh ... Dia belum tau kali di akhirat ntar gimana di neraka selama-lamanya.',\n",
       " 'Lagi tren kali lompat melompat hahaha (COWO BODOH)',\n",
       " 'Ngapa sih tu orang',\n",
       " 'Kurang dekatnya diri dari Allah SWT.',\n",
       " 'Murah banget hidup.. bunuh diri itu bukan jalan keluar',\n",
       " 'Depresi karena kurangnya mendekatkan diri kepada sang pencipta.',\n",
       " 'Biar apa sih loncat2???',\n",
       " 'Sayang banget gak mati jadi cacat kan tuh. Ada2 aja yaa yaallah\\xf0\\x9f\\x98\\xa9',\n",
       " 'Mana ada orang bunuh diri yg masuk surga. Mana ada orang yg bunuh diri diampuni dosa-dosanya. Nabi aja ga mau sholatkan jenazah yg mati karena bunuh diri',\n",
       " 'bego lu',\n",
       " \"Marilah kuatkan iman kita agar kita terhindar dari rayuan setan yg menyesatkan...astagfiraullahal a'dziiim...banyak-banyaklah istigfar.\",\n",
       " 'Haduh kasihan orangnya sudah modar',\n",
       " 'Ya Allah...apa yg dia perbuat melaknat diri sendiri...',\n",
       " 'Naudzubillah himin zalik',\n",
       " 'mati aja',\n",
       " 'tidak mungkin diterima kalau masuk neraka pasti',\n",
       " 'tetapi bunuh diri memang dilarang dan selamanya dia akan menyakiti dirinya sendiri seperti cara dia bunuh diri',\n",
       " 'Imannya kurang.. cinta itu mutlak hanya milik allah swt itu adalah cinta yg sebenarnya cinta terhadap makhluk boleh tapi jangan terus kayak gini.. Ini sama saja mencintai makhluk melebihi penciptanya.. Yang jelas bunuh diri dalam islam itu dilarang dan berdosa amat besar sama saja dengan menduakan tuhan karena telah mendahului ajal.. Mengenai masalah masuk surga atau neraka itu hanya allah lah yg maha tahu...',\n",
       " 'Bunuh bukan saja dilarang dan tidak disukai Rosul dan sahabat atau para Ulama pun tidak menyukai. Tetapi tetap saja karena Iman tidak kuat akhirnya orang bisa buta hati maka doakan agar Allah mengampuni dosanya. Bagaimana pun perasaan manusia beda dengan malaikat.',\n",
       " 'Tetap bunuh diri itu tidak diterima oleh allah. karena rezeki maut jodoh termasuk nyawa itu allah yg mengatur. Bagaimana bila seorang berkata iman (percaya) pada allah tetapi tidak bertanya dulu pada ahli ulama wakilnya utusan allah tentangg jalan yg benar yg seharusnya . Maaf hnya mengingatkan',\n",
       " 'Banyak-banyak makan micin biar gak bodoh gara-gara istri selingkuh bunuh diri sudah kayak gak ada cewe lain aja',\n",
       " 'orang yg tak punya iman wanita banyak bukan hanya satu',\n",
       " 'cuma sayang isteri..ga mikirin anak-anakya..Parah kalau ga punya iman',\n",
       " 'Mampus lu udah mati gak ada guna nya juga lu hidup gak punya otak dasar cowo pengecut pakai mati segala disiarin live lagi. Orang tolol',\n",
       " 'kurang piknik semua nya',\n",
       " 'Pekok lu bunuh diri kok di umbar di facebook sudah mati lu nanti di neraka ditambah dihujat orang bunuh diri ya bunuh diri aja jgn sok-sokan di streaming',\n",
       " 'Bunuh diri ciri orang pecundang ! Dia tidak bisa menghadapi msalah dengan akal sehat',\n",
       " 'dia putus asa banyak masalah',\n",
       " 'Setiap kepala juga pasti punya masalah kk hanya org yang punya mental lemah sampai melakukan hal itu yang berpikir mati adalah jalan terbaik\\xf0\\x9f\\x98\\x94...seram yaa kk',\n",
       " 'mati nya ga wajar. Itu TKP pasti jadi angker :(',\n",
       " 'hiii.. seremlah klo tinggal deket TKP',\n",
       " 'sayang mas ganteng-ganteng kok gak punya iman...liat tu anak2mu',\n",
       " 'ORANG TOLOL..DIA BUNUH DIRI CUMA KARENA CINTA?KASIHAN AMAT HIDUP LU.',\n",
       " 'Perbuatan paling dibenci oleh TUHAN..sudah kasih umur panjang sehat malah di sia-siakan..mas bro mas bro',\n",
       " 'Ini bisa jadi panutan atau contoh buat kaum islami seperti kita-kita hanya cinta sesama saja sampai bunuh diri konyol banget kalau mati demi islam dan karena cinta pada gusti allah baru aku acungi jempol kalau kayak gini mah jari kelingking yg aku acungkan',\n",
       " 'gue sih turut berduka cita tetapi ini keputusan yang konyol... Tidak berpikir dua kali.',\n",
       " 'get_followers_usernamesYg bunuh diri itu orang yg paling bodoh. yang udah gak punya iman..klo mereka mau silakan...berlombaget_followers_usernamesget_followers_usernamesget_followers_usernames',\n",
       " 'tolol.. Masuk Neraka Lo',\n",
       " 'telat bro orangnya sudah menikmati hadiah terindah dalam kuburnya yaitu NERAKA',\n",
       " 'Hade..mau mati saja pakai acara eksis dulu..nanti lev lagi di neraka..lagi diapain',\n",
       " 'Edan zaman sekarang kelakuan manusia sudah aneh-aneh Kenapa melakukan kayak gitu pak.. Apakah bapak ga pikir anak-anak bapak.. Apa bapak ga kasihan sma anak-anak bapak.. Cuma masalah sepele kok sampai bunuh diri... Ampun pak pak di mana sebagai laki-lakimu.. Laki-laki itu harus kuat masih banyak cewek mah pak bukan cuma satu doang',\n",
       " 'Itulah janji iblis menyesatkan manusia sampai keluar dari agama islam bagaimanapun caranya semoga keluarga kita kerabat saudara ataupun yg kita kenal tidak pernah melakukan hal tersebut amin....',\n",
       " 'Gak Ada imannya.. Kasian banget',\n",
       " 'Yg sakit parah dan sudah divonis aja mati-matian gimana caranya harus sembuh? yg sudah dikasih fisik sehat duniawi oleh sang pencipta malah di sia-siakan dunia sudah terbalik',\n",
       " 'INILAH CONTOH ORANG PALING TOLOL GOBLOK DAN ga punya OTAK!!!!!',\n",
       " 'Bener banget bang...orang yg sakit hampir menemui ajal aja pengen sehat dan bangun lagi ini yg dikasih hidup malah disia-siakan...',\n",
       " 'kurang piknik',\n",
       " 'Orang bodoh wanita didunia ada jutaan ditinggal satu ya cari lagi gitu aja pake bunuh diri (nasi pecel masih enak sayang) yg namanya orang bunuh diri ya jelas masuk neraka jd percuma didoakan masuk surga... Ga mensyukuri nikmat tuhan',\n",
       " 'orang bodoh yg mati bunuh diri...',\n",
       " 'picik sekali',\n",
       " 'Orang bego ini hahahaha',\n",
       " 'Cetek amat pemikirannya duh sayang banget tetapi semoga diampuni segala dosamu. Amin',\n",
       " ' Imannya tipis... paling dibenci sama ALLAH',\n",
       " 'masuk neraka saja ga apalagi masuk surga aduh gentayang tuh di dunia ga ada tujuan imannya lemah tuh orang']"
      ]
     },
     "execution_count": 13,
     "metadata": {},
     "output_type": "execute_result"
    }
   ],
   "source": [
    "import csv\n",
    "\n",
    "comments = []\n",
    "with open('komentar-netizen.csv') as csvfile:\n",
    "    rows = csv.reader(csvfile, delimiter=',')\n",
    "    for row in rows:\n",
    "        comments.append(row[0])\n",
    "comments"
   ]
  },
  {
   "cell_type": "code",
   "execution_count": 3,
   "metadata": {},
   "outputs": [
    {
     "data": {
      "text/plain": [
       "[44965L,\n",
       " 44193L,\n",
       " 42826L,\n",
       " 41149L,\n",
       " 40600L,\n",
       " 39518L,\n",
       " 38364L,\n",
       " 36909L,\n",
       " 36035L,\n",
       " 34598L,\n",
       " 33300L,\n",
       " 32637L,\n",
       " 32439L,\n",
       " 31484L,\n",
       " 31655L,\n",
       " 30622L,\n",
       " 29350L,\n",
       " 29199L,\n",
       " 30575L,\n",
       " 30535L,\n",
       " 30903L]"
      ]
     },
     "execution_count": 3,
     "metadata": {},
     "output_type": "execute_result"
    }
   ],
   "source": [
    "my_data[\"NumberOfSuicide\"].tolist()"
   ]
  },
  {
   "cell_type": "code",
   "execution_count": 4,
   "metadata": {},
   "outputs": [
    {
     "data": {
      "text/html": [
       "<script>requirejs.config({paths: { 'plotly': ['https://cdn.plot.ly/plotly-latest.min']},});if(!window.Plotly) {{require(['plotly'],function(plotly) {window.Plotly=plotly;});}}</script>"
      ],
      "text/vnd.plotly.v1+html": [
       "<script>requirejs.config({paths: { 'plotly': ['https://cdn.plot.ly/plotly-latest.min']},});if(!window.Plotly) {{require(['plotly'],function(plotly) {window.Plotly=plotly;});}}</script>"
      ]
     },
     "metadata": {},
     "output_type": "display_data"
    },
    {
     "data": {
      "application/vnd.plotly.v1+json": {
       "data": [
        {
         "type": "scatter",
         "uid": "8f7378b0-4b7f-11e9-a45d-3010b38f8039",
         "x": [
          1,
          2,
          3,
          4
         ],
         "y": [
          4,
          3,
          2,
          1
         ]
        }
       ],
       "layout": {
        "title": "hello world"
       }
      },
      "text/html": [
       "<div id=\"272103aa-21cc-4523-aaca-ac2740da702e\" style=\"height: 525px; width: 100%;\" class=\"plotly-graph-div\"></div><script type=\"text/javascript\">require([\"plotly\"], function(Plotly) { window.PLOTLYENV=window.PLOTLYENV || {};window.PLOTLYENV.BASE_URL=\"https://plot.ly\";Plotly.newPlot(\"272103aa-21cc-4523-aaca-ac2740da702e\", [{\"y\": [4, 3, 2, 1], \"x\": [1, 2, 3, 4], \"type\": \"scatter\", \"uid\": \"8f796c21-4b7f-11e9-8ad6-3010b38f8039\"}], {\"title\": \"hello world\"}, {\"linkText\": \"Export to plot.ly\", \"showLink\": true})});</script>"
      ],
      "text/vnd.plotly.v1+html": [
       "<div id=\"272103aa-21cc-4523-aaca-ac2740da702e\" style=\"height: 525px; width: 100%;\" class=\"plotly-graph-div\"></div><script type=\"text/javascript\">require([\"plotly\"], function(Plotly) { window.PLOTLYENV=window.PLOTLYENV || {};window.PLOTLYENV.BASE_URL=\"https://plot.ly\";Plotly.newPlot(\"272103aa-21cc-4523-aaca-ac2740da702e\", [{\"y\": [4, 3, 2, 1], \"x\": [1, 2, 3, 4], \"type\": \"scatter\", \"uid\": \"8f796c21-4b7f-11e9-8ad6-3010b38f8039\"}], {\"title\": \"hello world\"}, {\"linkText\": \"Export to plot.ly\", \"showLink\": true})});</script>"
      ]
     },
     "metadata": {},
     "output_type": "display_data"
    }
   ],
   "source": [
    "import plotly\n",
    "import plotly.graph_objs as go\n",
    "\n",
    "plotly.offline.init_notebook_mode(connected=True)\n",
    "\n",
    "plotly.offline.iplot({\n",
    "    \"data\": [go.Scatter(x=[1, 2, 3, 4], y=[4, 3, 2, 1])],\n",
    "    \"layout\": go.Layout(title=\"hello world\")\n",
    "})"
   ]
  },
  {
   "cell_type": "code",
   "execution_count": 5,
   "metadata": {},
   "outputs": [
    {
     "data": {
      "application/vnd.plotly.v1+json": {
       "data": [
        {
         "marker": {
          "color": "rgb(42, 52, 57)"
         },
         "type": "bar",
         "uid": "97be1f21-4b7f-11e9-9f4d-3010b38f8039",
         "x": [
          2016,
          2015,
          2014,
          2013,
          2012,
          2011,
          2010,
          2009,
          2008,
          2007,
          2006,
          2005,
          2004,
          2003,
          2002,
          2001,
          2000,
          1999,
          1998,
          1997,
          1996
         ],
         "y": [
          44965,
          44193,
          42826,
          41149,
          40600,
          39518,
          38364,
          36909,
          36035,
          34598,
          33300,
          32637,
          32439,
          31484,
          31655,
          30622,
          29350,
          29199,
          30575,
          30535,
          30903
         ]
        }
       ],
       "layout": {}
      },
      "text/html": [
       "<div id=\"4138d023-ff04-4c95-bc83-586ff3387e90\" style=\"height: 525px; width: 100%;\" class=\"plotly-graph-div\"></div><script type=\"text/javascript\">require([\"plotly\"], function(Plotly) { window.PLOTLYENV=window.PLOTLYENV || {};window.PLOTLYENV.BASE_URL=\"https://plot.ly\";Plotly.newPlot(\"4138d023-ff04-4c95-bc83-586ff3387e90\", [{\"marker\": {\"color\": \"rgb(42, 52, 57)\"}, \"x\": [2016, 2015, 2014, 2013, 2012, 2011, 2010, 2009, 2008, 2007, 2006, 2005, 2004, 2003, 2002, 2001, 2000, 1999, 1998, 1997, 1996], \"type\": \"bar\", \"y\": [44965, 44193, 42826, 41149, 40600, 39518, 38364, 36909, 36035, 34598, 33300, 32637, 32439, 31484, 31655, 30622, 29350, 29199, 30575, 30535, 30903], \"uid\": \"97d0bcc0-4b7f-11e9-a7b9-3010b38f8039\"}], {}, {\"linkText\": \"Export to plot.ly\", \"showLink\": true})});</script>"
      ],
      "text/vnd.plotly.v1+html": [
       "<div id=\"4138d023-ff04-4c95-bc83-586ff3387e90\" style=\"height: 525px; width: 100%;\" class=\"plotly-graph-div\"></div><script type=\"text/javascript\">require([\"plotly\"], function(Plotly) { window.PLOTLYENV=window.PLOTLYENV || {};window.PLOTLYENV.BASE_URL=\"https://plot.ly\";Plotly.newPlot(\"4138d023-ff04-4c95-bc83-586ff3387e90\", [{\"marker\": {\"color\": \"rgb(42, 52, 57)\"}, \"x\": [2016, 2015, 2014, 2013, 2012, 2011, 2010, 2009, 2008, 2007, 2006, 2005, 2004, 2003, 2002, 2001, 2000, 1999, 1998, 1997, 1996], \"type\": \"bar\", \"y\": [44965, 44193, 42826, 41149, 40600, 39518, 38364, 36909, 36035, 34598, 33300, 32637, 32439, 31484, 31655, 30622, 29350, 29199, 30575, 30535, 30903], \"uid\": \"97d0bcc0-4b7f-11e9-a7b9-3010b38f8039\"}], {}, {\"linkText\": \"Export to plot.ly\", \"showLink\": true})});</script>"
      ]
     },
     "metadata": {},
     "output_type": "display_data"
    }
   ],
   "source": [
    "import plotly as py\n",
    "import plotly.graph_objs as go\n",
    "\n",
    "data = [go.Bar(\n",
    "            x=my_data[\"Year\"].tolist(),\n",
    "            y=my_data[\"NumberOfSuicide\"].tolist(),\n",
    "            marker=dict(\n",
    "                color='rgb(42, 52, 57)'\n",
    "            )\n",
    "        )]\n",
    "\n",
    "py.offline.iplot(data, filename='basic-bar')"
   ]
  },
  {
   "cell_type": "code",
   "execution_count": 6,
   "metadata": {},
   "outputs": [
    {
     "ename": "AttributeError",
     "evalue": "'module' object has no attribute 'iplot'",
     "output_type": "error",
     "traceback": [
      "\u001b[1;31m\u001b[0m",
      "\u001b[1;31mAttributeError\u001b[0mTraceback (most recent call last)",
      "\u001b[1;32m<ipython-input-6-91b9464c1eec>\u001b[0m in \u001b[0;36m<module>\u001b[1;34m()\u001b[0m\n\u001b[1;32m----> 1\u001b[1;33m \u001b[0mhelp\u001b[0m\u001b[1;33m(\u001b[0m\u001b[0mpy\u001b[0m\u001b[1;33m.\u001b[0m\u001b[0miplot\u001b[0m\u001b[1;33m)\u001b[0m\u001b[1;33m\u001b[0m\u001b[0m\n\u001b[0m",
      "\u001b[1;31mAttributeError\u001b[0m: 'module' object has no attribute 'iplot'"
     ]
    }
   ],
   "source": [
    "help(py.iplot)"
   ]
  },
  {
   "cell_type": "code",
   "execution_count": 7,
   "metadata": {
    "collapsed": true
   },
   "outputs": [],
   "source": [
    "sent = [\"India is a beautiful country and famous all over the world for its unique cultures and traditions\",\n",
    "       \"It is famous for its historical heritages and monuments\",\n",
    "       \"India is a country where people speak many languages and people of different castes, creeds, religions and cultures live together\",\n",
    "       \" That’s why India is famous for common saying of “unity in diversity\",\n",
    "       \"t is well known as the land of spirituality, philosophy, science and technology\",\n",
    "       \"It is famous country for its agriculture and farming which are the backbones of it from the ancient time\",\n",
    "       \"It is a famous tourist’s paradise because it attracts people’s mind from all over the world\",\n",
    "       \"It is rich in monuments, tombs, churches, historical buildings, temples, museums, scenic beauty, wild life sanctuaries, places of architecture, etc\"]"
   ]
  },
  {
   "cell_type": "code",
   "execution_count": 8,
   "metadata": {
    "collapsed": true
   },
   "outputs": [],
   "source": [
    "def transform_format(val):\n",
    "    if val == 0:\n",
    "        return 255\n",
    "    else:\n",
    "        return val"
   ]
  },
  {
   "cell_type": "code",
   "execution_count": 9,
   "metadata": {},
   "outputs": [
    {
     "ename": "IOError",
     "evalue": "[Errno 2] No such file or directory: 'rope.png'",
     "output_type": "error",
     "traceback": [
      "\u001b[1;31m\u001b[0m",
      "\u001b[1;31mIOError\u001b[0mTraceback (most recent call last)",
      "\u001b[1;32m<ipython-input-9-3801d60e7c42>\u001b[0m in \u001b[0;36m<module>\u001b[1;34m()\u001b[0m\n\u001b[1;32m----> 1\u001b[1;33m \u001b[0mmask\u001b[0m \u001b[1;33m=\u001b[0m \u001b[0mnp\u001b[0m\u001b[1;33m.\u001b[0m\u001b[0marray\u001b[0m\u001b[1;33m(\u001b[0m\u001b[0mImage\u001b[0m\u001b[1;33m.\u001b[0m\u001b[0mopen\u001b[0m\u001b[1;33m(\u001b[0m\u001b[1;34m\"rope.png\"\u001b[0m\u001b[1;33m)\u001b[0m\u001b[1;33m)\u001b[0m\u001b[1;33m\u001b[0m\u001b[0m\n\u001b[0m",
      "\u001b[1;32mC:\\Users\\user\\Anaconda2\\lib\\site-packages\\PIL\\Image.pyc\u001b[0m in \u001b[0;36mopen\u001b[1;34m(fp, mode)\u001b[0m\n\u001b[0;32m   2546\u001b[0m \u001b[1;33m\u001b[0m\u001b[0m\n\u001b[0;32m   2547\u001b[0m     \u001b[1;32mif\u001b[0m \u001b[0mfilename\u001b[0m\u001b[1;33m:\u001b[0m\u001b[1;33m\u001b[0m\u001b[0m\n\u001b[1;32m-> 2548\u001b[1;33m         \u001b[0mfp\u001b[0m \u001b[1;33m=\u001b[0m \u001b[0mbuiltins\u001b[0m\u001b[1;33m.\u001b[0m\u001b[0mopen\u001b[0m\u001b[1;33m(\u001b[0m\u001b[0mfilename\u001b[0m\u001b[1;33m,\u001b[0m \u001b[1;34m\"rb\"\u001b[0m\u001b[1;33m)\u001b[0m\u001b[1;33m\u001b[0m\u001b[0m\n\u001b[0m\u001b[0;32m   2549\u001b[0m         \u001b[0mexclusive_fp\u001b[0m \u001b[1;33m=\u001b[0m \u001b[0mTrue\u001b[0m\u001b[1;33m\u001b[0m\u001b[0m\n\u001b[0;32m   2550\u001b[0m \u001b[1;33m\u001b[0m\u001b[0m\n",
      "\u001b[1;31mIOError\u001b[0m: [Errno 2] No such file or directory: 'rope.png'"
     ]
    }
   ],
   "source": [
    "mask = np.array(Image.open(\"rope.png\"))"
   ]
  },
  {
   "cell_type": "code",
   "execution_count": 10,
   "metadata": {},
   "outputs": [
    {
     "ename": "NameError",
     "evalue": "name 'mask' is not defined",
     "output_type": "error",
     "traceback": [
      "\u001b[1;31m\u001b[0m",
      "\u001b[1;31mNameError\u001b[0mTraceback (most recent call last)",
      "\u001b[1;32m<ipython-input-10-b09bb07c4194>\u001b[0m in \u001b[0;36m<module>\u001b[1;34m()\u001b[0m\n\u001b[0;32m      1\u001b[0m \u001b[1;31m# Transform your mask into a new one that will work with the function:\u001b[0m\u001b[1;33m\u001b[0m\u001b[1;33m\u001b[0m\u001b[0m\n\u001b[1;32m----> 2\u001b[1;33m \u001b[0mtransformed_wine_mask\u001b[0m \u001b[1;33m=\u001b[0m \u001b[0mnp\u001b[0m\u001b[1;33m.\u001b[0m\u001b[0mndarray\u001b[0m\u001b[1;33m(\u001b[0m\u001b[1;33m(\u001b[0m\u001b[0mmask\u001b[0m\u001b[1;33m.\u001b[0m\u001b[0mshape\u001b[0m\u001b[1;33m[\u001b[0m\u001b[1;36m0\u001b[0m\u001b[1;33m]\u001b[0m\u001b[1;33m,\u001b[0m\u001b[0mmask\u001b[0m\u001b[1;33m.\u001b[0m\u001b[0mshape\u001b[0m\u001b[1;33m[\u001b[0m\u001b[1;36m1\u001b[0m\u001b[1;33m]\u001b[0m\u001b[1;33m)\u001b[0m\u001b[1;33m,\u001b[0m \u001b[0mnp\u001b[0m\u001b[1;33m.\u001b[0m\u001b[0mint32\u001b[0m\u001b[1;33m)\u001b[0m\u001b[1;33m\u001b[0m\u001b[0m\n\u001b[0m\u001b[0;32m      3\u001b[0m \u001b[1;33m\u001b[0m\u001b[0m\n\u001b[0;32m      4\u001b[0m \u001b[1;32mfor\u001b[0m \u001b[0mi\u001b[0m \u001b[1;32min\u001b[0m \u001b[0mrange\u001b[0m\u001b[1;33m(\u001b[0m\u001b[0mlen\u001b[0m\u001b[1;33m(\u001b[0m\u001b[0mmask\u001b[0m\u001b[1;33m)\u001b[0m\u001b[1;33m)\u001b[0m\u001b[1;33m:\u001b[0m\u001b[1;33m\u001b[0m\u001b[0m\n\u001b[0;32m      5\u001b[0m     \u001b[0mtransformed_wine_mask\u001b[0m\u001b[1;33m[\u001b[0m\u001b[0mi\u001b[0m\u001b[1;33m]\u001b[0m \u001b[1;33m=\u001b[0m \u001b[0mlist\u001b[0m\u001b[1;33m(\u001b[0m\u001b[0mmap\u001b[0m\u001b[1;33m(\u001b[0m\u001b[0mtransform_format\u001b[0m\u001b[1;33m,\u001b[0m \u001b[0mmask\u001b[0m\u001b[1;33m[\u001b[0m\u001b[0mi\u001b[0m\u001b[1;33m]\u001b[0m\u001b[1;33m)\u001b[0m\u001b[1;33m)\u001b[0m\u001b[1;33m\u001b[0m\u001b[0m\n",
      "\u001b[1;31mNameError\u001b[0m: name 'mask' is not defined"
     ]
    }
   ],
   "source": [
    "# Transform your mask into a new one that will work with the function:\n",
    "transformed_wine_mask = np.ndarray((mask.shape[0],mask.shape[1]), np.int32)\n",
    "\n",
    "for i in range(len(mask)):\n",
    "    transformed_wine_mask[i] = list(map(transform_format, mask[i]))"
   ]
  },
  {
   "cell_type": "code",
   "execution_count": null,
   "metadata": {
    "collapsed": true
   },
   "outputs": [],
   "source": [
    "def red_color_func(word, font_size, position, orientation, random_state=None,\n",
    "                    **kwargs):\n",
    "    return \"hsl(8, 100%%, %d%%)\" % random.randint(50, 50)"
   ]
  },
  {
   "cell_type": "code",
   "execution_count": null,
   "metadata": {
    "collapsed": true
   },
   "outputs": [],
   "source": [
    "def wordcloud(tweets, title):\n",
    "    stopwords = set(STOPWORDS)\n",
    "    stopwords.add(\"will\")\n",
    "    stopwords.add(\"now\")\n",
    "    wordcloud = WordCloud(width=512, height=512, background_color=\"#000000\", max_font_size=25, min_font_size=6,\n",
    "                          max_words=200, stopwords=stopwords,\n",
    "                          random_state=2018, mask=transformed_wine_mask).generate(\" \".join([i for i in tweets]))\n",
    "    plt.figure(title, figsize=(20, 10), facecolor='white', edgecolor='blue')\n",
    "    plt.imshow(wordcloud.recolor(color_func=red_color_func, random_state=3),\n",
    "           interpolation=\"bilinear\")\n",
    "    plt.axis(\"off\")\n",
    "    plt.title(title)\n",
    "    plt.tight_layout(pad=0)\n",
    "    wordcloud.to_file(\"contoh.png\")\n",
    "    plt.show()\n",
    "wordcloud(sent, \"India\")"
   ]
  },
  {
   "cell_type": "code",
   "execution_count": null,
   "metadata": {
    "collapsed": true
   },
   "outputs": [],
   "source": []
  }
 ],
 "metadata": {
  "kernelspec": {
   "display_name": "Python 2",
   "language": "python",
   "name": "python2"
  },
  "language_info": {
   "codemirror_mode": {
    "name": "ipython",
    "version": 2
   },
   "file_extension": ".py",
   "mimetype": "text/x-python",
   "name": "python",
   "nbconvert_exporter": "python",
   "pygments_lexer": "ipython2",
   "version": "2.7.11+"
  }
 },
 "nbformat": 4,
 "nbformat_minor": 2
}
